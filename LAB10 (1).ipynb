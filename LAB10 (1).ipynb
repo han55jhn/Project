{
 "cells": [
  {
   "cell_type": "code",
   "execution_count": 2,
   "metadata": {},
   "outputs": [],
   "source": [
    "import numpy as np\n",
    "import matplotlib.pyplot as plt\n",
    "import pandas as pd"
   ]
  },
  {
   "cell_type": "code",
   "execution_count": 3,
   "metadata": {},
   "outputs": [
    {
     "data": {
      "text/html": [
       "<div>\n",
       "<style scoped>\n",
       "    .dataframe tbody tr th:only-of-type {\n",
       "        vertical-align: middle;\n",
       "    }\n",
       "\n",
       "    .dataframe tbody tr th {\n",
       "        vertical-align: top;\n",
       "    }\n",
       "\n",
       "    .dataframe thead th {\n",
       "        text-align: right;\n",
       "    }\n",
       "</style>\n",
       "<table border=\"1\" class=\"dataframe\">\n",
       "  <thead>\n",
       "    <tr style=\"text-align: right;\">\n",
       "      <th></th>\n",
       "      <th>name</th>\n",
       "      <th>hobby</th>\n",
       "      <th>age</th>\n",
       "      <th>educational level</th>\n",
       "      <th>marital status</th>\n",
       "    </tr>\n",
       "  </thead>\n",
       "  <tbody>\n",
       "    <tr>\n",
       "      <th>10</th>\n",
       "      <td>2</td>\n",
       "      <td>1</td>\n",
       "      <td>3</td>\n",
       "      <td>2</td>\n",
       "      <td>2</td>\n",
       "    </tr>\n",
       "    <tr>\n",
       "      <th>83</th>\n",
       "      <td>3</td>\n",
       "      <td>1</td>\n",
       "      <td>4</td>\n",
       "      <td>1</td>\n",
       "      <td>3</td>\n",
       "    </tr>\n",
       "    <tr>\n",
       "      <th>61</th>\n",
       "      <td>2</td>\n",
       "      <td>4</td>\n",
       "      <td>2</td>\n",
       "      <td>2</td>\n",
       "      <td>3</td>\n",
       "    </tr>\n",
       "    <tr>\n",
       "      <th>107</th>\n",
       "      <td>1</td>\n",
       "      <td>1</td>\n",
       "      <td>3</td>\n",
       "      <td>4</td>\n",
       "      <td>3</td>\n",
       "    </tr>\n",
       "    <tr>\n",
       "      <th>113</th>\n",
       "      <td>1</td>\n",
       "      <td>1</td>\n",
       "      <td>3</td>\n",
       "      <td>2</td>\n",
       "      <td>2</td>\n",
       "    </tr>\n",
       "  </tbody>\n",
       "</table>\n",
       "</div>"
      ],
      "text/plain": [
       "     name  hobby  age  educational level  marital status\n",
       "10      2      1    3                  2               2\n",
       "83      3      1    4                  1               3\n",
       "61      2      4    2                  2               3\n",
       "107     1      1    3                  4               3\n",
       "113     1      1    3                  2               2"
      ]
     },
     "execution_count": 3,
     "metadata": {},
     "output_type": "execute_result"
    }
   ],
   "source": [
    "from sklearn import datasets\n",
    "df=pd.read_csv('hayes-roth.data', delimiter=',', header= 0, names= ['name', 'hobby', 'age','educational level', 'marital status'])\n",
    "df.head()"
   ]
  },
  {
   "cell_type": "code",
   "execution_count": 4,
   "metadata": {},
   "outputs": [
    {
     "name": "stdout",
     "output_type": "stream",
     "text": [
      "     educational level  marital status\n",
      "10                   2               2\n",
      "83                   1               3\n",
      "61                   2               3\n",
      "107                  4               3\n",
      "113                  2               2\n",
      "80                   2               2\n",
      "125                  4               3\n",
      "36                   1               1\n",
      "105                  1               1\n",
      "81                   1               1\n",
      "122                  4               3\n",
      "94                   1               1\n",
      "60                   2               2\n",
      "8                    4               3\n",
      "20                   3               1\n",
      "85                   2               2\n",
      "50                   1               1\n",
      "68                   1               1\n",
      "89                   2               1\n",
      "52                   1               2\n",
      "19                   3               1\n",
      "118                  1               1\n",
      "16                   3               1\n",
      "91                   1               1\n",
      "79                   1               2\n",
      "23                   3               2\n",
      "25                   2               2\n",
      "30                   2               1\n",
      "57                   1               1\n",
      "3                    1               3\n",
      "..                 ...             ...\n",
      "49                   2               2\n",
      "51                   2               1\n",
      "87                   1               3\n",
      "58                   1               2\n",
      "32                   1               2\n",
      "72                   4               3\n",
      "55                   3               3\n",
      "103                  1               1\n",
      "7                    1               1\n",
      "99                   2               2\n",
      "15                   1               1\n",
      "126                  1               1\n",
      "45                   2               1\n",
      "101                  4               3\n",
      "100                  1               3\n",
      "24                   3               2\n",
      "124                  2               2\n",
      "13                   2               3\n",
      "14                   1               2\n",
      "38                   4               3\n",
      "71                   2               2\n",
      "43                   4               3\n",
      "131                  3               1\n",
      "17                   2               1\n",
      "12                   3               3\n",
      "44                   3               3\n",
      "40                   1               1\n",
      "90                   2               2\n",
      "21                   1               2\n",
      "9                    2               1\n",
      "\n",
      "[131 rows x 2 columns]\n"
     ]
    }
   ],
   "source": [
    "X= df['educational level']\n",
    "Y= df['marital status']\n",
    "Slic_df = pd.DataFrame({'educational level': X, 'marital status': Y})\n",
    "print(Slic_df)"
   ]
  },
  {
   "cell_type": "code",
   "execution_count": null,
   "metadata": {},
   "outputs": [],
   "source": []
  },
  {
   "cell_type": "code",
   "execution_count": 5,
   "metadata": {},
   "outputs": [
    {
     "data": {
      "image/png": "[encoded data removed]",
      "text/plain": [
       "<Figure size 432x288 with 1 Axes>"
      ]
     },
     "metadata": {
      "needs_background": "light"
     },
     "output_type": "display_data"
    }
   ],
   "source": [
    "plt.scatter(Slic_df[['educational level']], Slic_df[['marital status']], color = \"r\", marker = \"x\", s = 15)\n",
    "plt.xlabel('educational level') \n",
    "plt.ylabel('marital status')\n",
    "plt.title('Scatter Plot') \n",
    "plt.show()"
   ]
  },
  {
   "cell_type": "code",
   "execution_count": 6,
   "metadata": {},
   "outputs": [],
   "source": [
    "from sklearn.linear_model import LinearRegression\n",
    "\n",
    "#define the classifier\n",
    "classifier = LinearRegression()\n",
    "\n",
    "#train the classifier\n",
    "model = classifier.fit(Slic_df[['educational level']], Slic_df[['marital status']])"
   ]
  },
  {
   "cell_type": "code",
   "execution_count": 7,
   "metadata": {},
   "outputs": [
    {
     "name": "stdout",
     "output_type": "stream",
     "text": [
      "[[1.8629231 ]\n",
      " [1.52243548]\n",
      " [1.8629231 ]\n",
      " [2.54389833]\n",
      " [1.8629231 ]\n",
      " [1.8629231 ]\n",
      " [2.54389833]\n",
      " [1.52243548]\n",
      " [1.52243548]\n",
      " [1.52243548]\n",
      " [2.54389833]\n",
      " [1.52243548]\n",
      " [1.8629231 ]\n",
      " [2.54389833]\n",
      " [2.20341071]\n",
      " [1.8629231 ]\n",
      " [1.52243548]\n",
      " [1.52243548]\n",
      " [1.8629231 ]\n",
      " [1.52243548]\n",
      " [2.20341071]\n",
      " [1.52243548]\n",
      " [2.20341071]\n",
      " [1.52243548]\n",
      " [1.52243548]\n",
      " [2.20341071]\n",
      " [1.8629231 ]\n",
      " [1.8629231 ]\n",
      " [1.52243548]\n",
      " [1.52243548]\n",
      " [2.20341071]\n",
      " [2.20341071]\n",
      " [1.8629231 ]\n",
      " [1.52243548]\n",
      " [1.8629231 ]\n",
      " [1.8629231 ]\n",
      " [1.52243548]\n",
      " [1.8629231 ]\n",
      " [1.8629231 ]\n",
      " [1.52243548]\n",
      " [1.8629231 ]\n",
      " [2.20341071]\n",
      " [1.52243548]\n",
      " [1.52243548]\n",
      " [2.20341071]\n",
      " [1.8629231 ]\n",
      " [1.8629231 ]\n",
      " [2.20341071]\n",
      " [1.52243548]\n",
      " [1.52243548]\n",
      " [1.8629231 ]\n",
      " [1.8629231 ]\n",
      " [1.52243548]\n",
      " [1.8629231 ]\n",
      " [1.8629231 ]\n",
      " [1.52243548]\n",
      " [1.52243548]\n",
      " [2.20341071]\n",
      " [1.8629231 ]\n",
      " [1.8629231 ]\n",
      " [1.8629231 ]\n",
      " [2.54389833]\n",
      " [1.52243548]\n",
      " [1.8629231 ]\n",
      " [1.52243548]\n",
      " [1.8629231 ]\n",
      " [1.8629231 ]\n",
      " [2.54389833]\n",
      " [1.8629231 ]\n",
      " [1.8629231 ]\n",
      " [1.8629231 ]\n",
      " [1.8629231 ]\n",
      " [1.8629231 ]\n",
      " [2.54389833]\n",
      " [1.52243548]\n",
      " [1.52243548]\n",
      " [1.8629231 ]\n",
      " [1.52243548]\n",
      " [1.52243548]\n",
      " [2.20341071]\n",
      " [1.8629231 ]\n",
      " [1.8629231 ]\n",
      " [2.20341071]\n",
      " [1.52243548]\n",
      " [1.8629231 ]\n",
      " [2.20341071]\n",
      " [1.52243548]\n",
      " [2.20341071]\n",
      " [1.8629231 ]\n",
      " [1.52243548]\n",
      " [2.20341071]\n",
      " [1.52243548]\n",
      " [1.8629231 ]\n",
      " [1.8629231 ]\n",
      " [1.52243548]\n",
      " [1.52243548]\n",
      " [1.52243548]\n",
      " [2.54389833]\n",
      " [1.52243548]\n",
      " [1.52243548]\n",
      " [1.52243548]\n",
      " [1.8629231 ]\n",
      " [1.8629231 ]\n",
      " [1.52243548]\n",
      " [1.52243548]\n",
      " [1.52243548]\n",
      " [2.54389833]\n",
      " [2.20341071]\n",
      " [1.52243548]\n",
      " [1.52243548]\n",
      " [1.8629231 ]\n",
      " [1.52243548]\n",
      " [1.52243548]\n",
      " [1.8629231 ]\n",
      " [2.54389833]\n",
      " [1.52243548]\n",
      " [2.20341071]\n",
      " [1.8629231 ]\n",
      " [1.8629231 ]\n",
      " [1.52243548]\n",
      " [2.54389833]\n",
      " [1.8629231 ]\n",
      " [2.54389833]\n",
      " [2.20341071]\n",
      " [1.8629231 ]\n",
      " [2.20341071]\n",
      " [2.20341071]\n",
      " [1.52243548]\n",
      " [1.8629231 ]\n",
      " [1.52243548]\n",
      " [1.8629231 ]]\n",
      "Coefficients: \n",
      " [[0.34048762]]\n",
      "Intercept: \n",
      " [1.18194787]\n"
     ]
    }
   ],
   "source": [
    "y_pred = classifier.predict(Slic_df[['educational level']])\n",
    "print(y_pred)\n",
    "\n",
    "#print coefficient (a in y=ax+b) and intercept (the constant, b in y=ax+b)\n",
    "print('Coefficients: \\n', classifier.coef_)\n",
    "print('Intercept: \\n', classifier.intercept_)"
   ]
  },
  {
   "cell_type": "code",
   "execution_count": 8,
   "metadata": {},
   "outputs": [
    {
     "data": {
      "image/png": "[encoded data removed]",
      "text/plain": [
       "<Figure size 432x288 with 1 Axes>"
      ]
     },
     "metadata": {
      "needs_background": "light"
     },
     "output_type": "display_data"
    }
   ],
   "source": [
    "#visualize original data points\n",
    "plt.scatter(Slic_df[['educational level']], Slic_df[['marital status']], color = \"m\", marker = \"s\", s = 10) \n",
    "#visualize regression function\n",
    "plt.plot(Slic_df['educational level'], y_pred, color = \"g\") \n",
    "plt.xlabel('educational level') \n",
    "plt.ylabel('marital status')\n",
    "plt.title('Regression Function')\n",
    "plt.show()"
   ]
  },
  {
   "cell_type": "code",
   "execution_count": 9,
   "metadata": {},
   "outputs": [
    {
     "data": {
      "image/png": "[encoded data removed]",
      "text/plain": [
       "<Figure size 432x288 with 1 Axes>"
      ]
     },
     "metadata": {
      "needs_background": "light"
     },
     "output_type": "display_data"
    },
    {
     "name": "stdout",
     "output_type": "stream",
     "text": [
      "Coefficients: \n",
      " [[5.41208791]]\n",
      "Intercept: \n",
      " [-33.37912088]\n"
     ]
    }
   ],
   "source": [
    "df2 = pd.DataFrame({'col1': [19, 20,21,22,23,24,25,26,27,28,29,30,31], \n",
    "                    'col2': [36,70,48,119,51,205,133,112,92,99,96,154,110]})\n",
    "\n",
    "#your turn - solution\n",
    "\n",
    "#define the classifier\n",
    "classifier = LinearRegression()\n",
    "#train the classifier\n",
    "classifier.fit(df2[['col1']],df2[['col2']])\n",
    "\n",
    "#use the classifier to make prediction\n",
    "y_predict = classifier.predict(df2[['col1']])\n",
    "\n",
    "#visualize data points\n",
    "plt.scatter(df2[['col1']], df2[['col2']], color = \"m\", marker = \"o\", s = 30) \n",
    "#visualize regression function\n",
    "plt.plot(df2[['col1']], y_predict, color = \"g\") \n",
    "plt.xlabel('x') \n",
    "plt.ylabel('y') \n",
    "plt.title('title')\n",
    "plt.show()\n",
    "#print coefficient (a in y=ax+b) and intercept (the constant, b in y=ax+b)\n",
    "print('Coefficients: \\n', classifier.coef_)\n",
    "print('Intercept: \\n', classifier.intercept_)"
   ]
  },
  {
   "cell_type": "code",
   "execution_count": 10,
   "metadata": {},
   "outputs": [
    {
     "name": "stdout",
     "output_type": "stream",
     "text": [
      "[[64.03846154]]\n"
     ]
    }
   ],
   "source": [
    "Day_18 = classifier.intercept_+ classifier.coef_ * 18 \n",
    "print(Day_18)"
   ]
  },
  {
   "cell_type": "code",
   "execution_count": 11,
   "metadata": {},
   "outputs": [
    {
     "name": "stdout",
     "output_type": "stream",
     "text": [
      "Mean squared error:\n",
      "1572.1551141166526\n"
     ]
    }
   ],
   "source": [
    "\n",
    "from sklearn.metrics import mean_squared_error, mean_absolute_error\n",
    "\n",
    "print(\"Mean squared error:\")\n",
    "print(mean_squared_error(df2[['col2']], y_predict))"
   ]
  },
  {
   "cell_type": "code",
   "execution_count": 12,
   "metadata": {},
   "outputs": [
    {
     "data": {
      "image/png": "[encoded data removed]",
      "text/plain": [
       "<Figure size 432x288 with 1 Axes>"
      ]
     },
     "metadata": {
      "needs_background": "light"
     },
     "output_type": "display_data"
    }
   ],
   "source": [
    "plt.scatter(y_predict, (df2[['col2']] - y_predict) ** 2, color = \"blue\", s = 10,) \n",
    "plt.title(\"Squared errors\")\n",
    "## plotting line for zero error \n",
    "plt.hlines(y = 0, xmin = 0, xmax = 140, linewidth = 2) \n",
    "plt.xlabel('predicted values')\n",
    "plt.ylabel('squared error')\n",
    "plt.show()"
   ]
  },
  {
   "cell_type": "code",
   "execution_count": 13,
   "metadata": {},
   "outputs": [
    {
     "name": "stdout",
     "output_type": "stream",
     "text": [
      "Score: \n",
      " 0.549618320610687\n",
      "Coefficients: \n",
      " [[-0.64249287]\n",
      " [-0.17153487]\n",
      " [ 0.72910253]]\n",
      "Intercept: \n",
      " [ 0.69712636 -0.11442943 -2.63585666]\n"
     ]
    }
   ],
   "source": [
    "\n",
    "from sklearn.linear_model import LogisticRegression\n",
    "\n",
    "\n",
    "X = Slic_df[['educational level']] #we only use the first feature as descriptive feature\n",
    "y = df['marital status'] #use the species as target feature\n",
    "\n",
    "#defining and training the logistic regression model\n",
    "log_regression = LogisticRegression(solver = 'liblinear', multi_class = 'ovr')\n",
    "log_regression.fit(X, y)\n",
    "\n",
    "pred = log_regression.predict(X)\n",
    "\n",
    "print('Score: \\n', log_regression.score(X, y)) #the mean accuracy on the given test data and labels\n",
    "print('Coefficients: \\n', log_regression.coef_)\n",
    "print('Intercept: \\n', log_regression.intercept_)"
   ]
  },
  {
   "cell_type": "code",
   "execution_count": 14,
   "metadata": {},
   "outputs": [
    {
     "name": "stdout",
     "output_type": "stream",
     "text": [
      "X: \n",
      "      name  hobby  age  educational level\n",
      "10      2      1    3                  2\n",
      "83      3      1    4                  1\n",
      "61      2      4    2                  2\n",
      "107     1      1    3                  4\n",
      "113     1      1    3                  2 \n",
      "\n",
      "y: \n",
      " 10     2\n",
      "83     3\n",
      "61     3\n",
      "107    3\n",
      "113    2\n",
      "Name: marital status, dtype: int64 \n",
      "\n",
      "Score: \n",
      " 0.6335877862595419\n",
      "Coefficients: \n",
      " [[ 0.25123183 -0.6069026  -0.59215067 -0.60387701]\n",
      " [ 0.03618466 -0.16461977 -0.16131482 -0.14482479]\n",
      " [-0.59303778  0.72004822  0.65199084  0.66489113]]\n",
      "Intercept: \n",
      " [ 2.32528395  0.3796473  -4.11317234]\n"
     ]
    }
   ],
   "source": [
    "#we use all descriptive features, but not the target feature\n",
    "X = df.iloc[:, 0:4]\n",
    "y=df['marital status']\n",
    "print('X: \\n', X.head(), '\\n')\n",
    "print('y: \\n', y.head(), '\\n')\n",
    "\n",
    "from sklearn.linear_model import LogisticRegression\n",
    "classifier3 = LogisticRegression( solver = 'liblinear', multi_class = 'ovr')\n",
    "classifier3.fit(X, y)\n",
    "\n",
    "y_pred = classifier3.predict(X)\n",
    "\n",
    "print('Score: \\n', classifier3.score(X, y))\n",
    "print('Coefficients: \\n', classifier3.coef_)\n",
    "print('Intercept: \\n', classifier3.intercept_)"
   ]
  },
  {
   "cell_type": "code",
   "execution_count": null,
   "metadata": {},
   "outputs": [],
   "source": []
  }
 ],
 "metadata": {
  "kernelspec": {
   "display_name": "Python 3",
   "language": "python",
   "name": "python3"
  },
  "language_info": {
   "codemirror_mode": {
    "name": "ipython",
    "version": 3
   },
   "file_extension": ".py",
   "mimetype": "text/x-python",
   "name": "python",
   "nbconvert_exporter": "python",
   "pygments_lexer": "ipython3",
   "version": "3.7.6"
  }
 },
 "nbformat": 4,
 "nbformat_minor": 4
}
