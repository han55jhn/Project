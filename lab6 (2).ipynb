{
 "cells": [
  {
   "cell_type": "code",
   "execution_count": 1,
   "metadata": {},
   "outputs": [],
   "source": [
    "import numpy as np\n",
    "import seaborn as sns\n",
    "import pandas as pd\n",
    "import matplotlib.pyplot as plt\n",
    "%matplotlib inline\n",
    "sns.set(color_codes =True)  \n"
   ]
  },
  {
   "cell_type": "code",
   "execution_count": 2,
   "metadata": {},
   "outputs": [
    {
     "data": {
      "text/html": [
       "<div>\n",
       "<style scoped>\n",
       "    .dataframe tbody tr th:only-of-type {\n",
       "        vertical-align: middle;\n",
       "    }\n",
       "\n",
       "    .dataframe tbody tr th {\n",
       "        vertical-align: top;\n",
       "    }\n",
       "\n",
       "    .dataframe thead th {\n",
       "        text-align: right;\n",
       "    }\n",
       "</style>\n",
       "<table border=\"1\" class=\"dataframe\">\n",
       "  <thead>\n",
       "    <tr style=\"text-align: right;\">\n",
       "      <th></th>\n",
       "      <th>name</th>\n",
       "      <th>hobby</th>\n",
       "      <th>age</th>\n",
       "      <th>educational level</th>\n",
       "      <th>marital status</th>\n",
       "      <th>class</th>\n",
       "    </tr>\n",
       "  </thead>\n",
       "  <tbody>\n",
       "    <tr>\n",
       "      <th>0</th>\n",
       "      <td>10</td>\n",
       "      <td>2</td>\n",
       "      <td>1</td>\n",
       "      <td>3</td>\n",
       "      <td>2</td>\n",
       "      <td>2</td>\n",
       "    </tr>\n",
       "    <tr>\n",
       "      <th>1</th>\n",
       "      <td>83</td>\n",
       "      <td>3</td>\n",
       "      <td>1</td>\n",
       "      <td>4</td>\n",
       "      <td>1</td>\n",
       "      <td>3</td>\n",
       "    </tr>\n",
       "    <tr>\n",
       "      <th>2</th>\n",
       "      <td>61</td>\n",
       "      <td>2</td>\n",
       "      <td>4</td>\n",
       "      <td>2</td>\n",
       "      <td>2</td>\n",
       "      <td>3</td>\n",
       "    </tr>\n",
       "    <tr>\n",
       "      <th>3</th>\n",
       "      <td>107</td>\n",
       "      <td>1</td>\n",
       "      <td>1</td>\n",
       "      <td>3</td>\n",
       "      <td>4</td>\n",
       "      <td>3</td>\n",
       "    </tr>\n",
       "    <tr>\n",
       "      <th>4</th>\n",
       "      <td>113</td>\n",
       "      <td>1</td>\n",
       "      <td>1</td>\n",
       "      <td>3</td>\n",
       "      <td>2</td>\n",
       "      <td>2</td>\n",
       "    </tr>\n",
       "  </tbody>\n",
       "</table>\n",
       "</div>"
      ],
      "text/plain": [
       "   name  hobby  age  educational level  marital status  class\n",
       "0    10      2    1                  3               2      2\n",
       "1    83      3    1                  4               1      3\n",
       "2    61      2    4                  2               2      3\n",
       "3   107      1    1                  3               4      3\n",
       "4   113      1    1                  3               2      2"
      ]
     },
     "execution_count": 2,
     "metadata": {},
     "output_type": "execute_result"
    }
   ],
   "source": [
    "data=pd.read_csv('hayes-roth.data', delimiter=',', header= 0, names= ['name', 'hobby', 'age','educational level', 'marital status','class'])\n",
    "data.head()"
   ]
  },
  {
   "cell_type": "code",
   "execution_count": 3,
   "metadata": {},
   "outputs": [
    {
     "data": {
      "text/html": [
       "<div>\n",
       "<style scoped>\n",
       "    .dataframe tbody tr th:only-of-type {\n",
       "        vertical-align: middle;\n",
       "    }\n",
       "\n",
       "    .dataframe tbody tr th {\n",
       "        vertical-align: top;\n",
       "    }\n",
       "\n",
       "    .dataframe thead th {\n",
       "        text-align: right;\n",
       "    }\n",
       "</style>\n",
       "<table border=\"1\" class=\"dataframe\">\n",
       "  <thead>\n",
       "    <tr style=\"text-align: right;\">\n",
       "      <th></th>\n",
       "      <th>target_names</th>\n",
       "    </tr>\n",
       "  </thead>\n",
       "  <tbody>\n",
       "    <tr>\n",
       "      <th>0</th>\n",
       "      <td></td>\n",
       "    </tr>\n",
       "    <tr>\n",
       "      <th>1</th>\n",
       "      <td>Low</td>\n",
       "    </tr>\n",
       "    <tr>\n",
       "      <th>2</th>\n",
       "      <td>Medium</td>\n",
       "    </tr>\n",
       "    <tr>\n",
       "      <th>3</th>\n",
       "      <td>high</td>\n",
       "    </tr>\n",
       "  </tbody>\n",
       "</table>\n",
       "</div>"
      ],
      "text/plain": [
       "  target_names\n",
       "0             \n",
       "1          Low\n",
       "2       Medium\n",
       "3         high"
      ]
     },
     "execution_count": 3,
     "metadata": {},
     "output_type": "execute_result"
    }
   ],
   "source": [
    "target_names= {'target_names':['','Low','Medium','high']}\n",
    "ds= pd.DataFrame(target_names)\n",
    "ds\n"
   ]
  },
  {
   "cell_type": "code",
   "execution_count": 4,
   "metadata": {},
   "outputs": [],
   "source": [
    "data['class']=data['class'].apply(lambda x: ds['target_names'][x])"
   ]
  },
  {
   "cell_type": "code",
   "execution_count": 5,
   "metadata": {},
   "outputs": [
    {
     "data": {
      "text/html": [
       "<div>\n",
       "<style scoped>\n",
       "    .dataframe tbody tr th:only-of-type {\n",
       "        vertical-align: middle;\n",
       "    }\n",
       "\n",
       "    .dataframe tbody tr th {\n",
       "        vertical-align: top;\n",
       "    }\n",
       "\n",
       "    .dataframe thead th {\n",
       "        text-align: right;\n",
       "    }\n",
       "</style>\n",
       "<table border=\"1\" class=\"dataframe\">\n",
       "  <thead>\n",
       "    <tr style=\"text-align: right;\">\n",
       "      <th></th>\n",
       "      <th>name</th>\n",
       "      <th>hobby</th>\n",
       "      <th>age</th>\n",
       "      <th>educational level</th>\n",
       "      <th>marital status</th>\n",
       "      <th>class</th>\n",
       "    </tr>\n",
       "  </thead>\n",
       "  <tbody>\n",
       "    <tr>\n",
       "      <th>0</th>\n",
       "      <td>10</td>\n",
       "      <td>2</td>\n",
       "      <td>1</td>\n",
       "      <td>3</td>\n",
       "      <td>2</td>\n",
       "      <td>Medium</td>\n",
       "    </tr>\n",
       "    <tr>\n",
       "      <th>1</th>\n",
       "      <td>83</td>\n",
       "      <td>3</td>\n",
       "      <td>1</td>\n",
       "      <td>4</td>\n",
       "      <td>1</td>\n",
       "      <td>high</td>\n",
       "    </tr>\n",
       "    <tr>\n",
       "      <th>2</th>\n",
       "      <td>61</td>\n",
       "      <td>2</td>\n",
       "      <td>4</td>\n",
       "      <td>2</td>\n",
       "      <td>2</td>\n",
       "      <td>high</td>\n",
       "    </tr>\n",
       "    <tr>\n",
       "      <th>3</th>\n",
       "      <td>107</td>\n",
       "      <td>1</td>\n",
       "      <td>1</td>\n",
       "      <td>3</td>\n",
       "      <td>4</td>\n",
       "      <td>high</td>\n",
       "    </tr>\n",
       "    <tr>\n",
       "      <th>4</th>\n",
       "      <td>113</td>\n",
       "      <td>1</td>\n",
       "      <td>1</td>\n",
       "      <td>3</td>\n",
       "      <td>2</td>\n",
       "      <td>Medium</td>\n",
       "    </tr>\n",
       "    <tr>\n",
       "      <th>5</th>\n",
       "      <td>80</td>\n",
       "      <td>3</td>\n",
       "      <td>1</td>\n",
       "      <td>3</td>\n",
       "      <td>2</td>\n",
       "      <td>Medium</td>\n",
       "    </tr>\n",
       "    <tr>\n",
       "      <th>6</th>\n",
       "      <td>125</td>\n",
       "      <td>3</td>\n",
       "      <td>4</td>\n",
       "      <td>2</td>\n",
       "      <td>4</td>\n",
       "      <td>high</td>\n",
       "    </tr>\n",
       "    <tr>\n",
       "      <th>7</th>\n",
       "      <td>36</td>\n",
       "      <td>2</td>\n",
       "      <td>2</td>\n",
       "      <td>1</td>\n",
       "      <td>1</td>\n",
       "      <td>Low</td>\n",
       "    </tr>\n",
       "  </tbody>\n",
       "</table>\n",
       "</div>"
      ],
      "text/plain": [
       "   name  hobby  age  educational level  marital status   class\n",
       "0    10      2    1                  3               2  Medium\n",
       "1    83      3    1                  4               1    high\n",
       "2    61      2    4                  2               2    high\n",
       "3   107      1    1                  3               4    high\n",
       "4   113      1    1                  3               2  Medium\n",
       "5    80      3    1                  3               2  Medium\n",
       "6   125      3    4                  2               4    high\n",
       "7    36      2    2                  1               1     Low"
      ]
     },
     "execution_count": 5,
     "metadata": {},
     "output_type": "execute_result"
    }
   ],
   "source": [
    "data.head(8)"
   ]
  },
  {
   "cell_type": "code",
   "execution_count": 6,
   "metadata": {},
   "outputs": [
    {
     "data": {
      "text/html": [
       "<div>\n",
       "<style scoped>\n",
       "    .dataframe tbody tr th:only-of-type {\n",
       "        vertical-align: middle;\n",
       "    }\n",
       "\n",
       "    .dataframe tbody tr th {\n",
       "        vertical-align: top;\n",
       "    }\n",
       "\n",
       "    .dataframe thead th {\n",
       "        text-align: right;\n",
       "    }\n",
       "</style>\n",
       "<table border=\"1\" class=\"dataframe\">\n",
       "  <thead>\n",
       "    <tr style=\"text-align: right;\">\n",
       "      <th></th>\n",
       "      <th>name</th>\n",
       "      <th>hobby</th>\n",
       "      <th>age</th>\n",
       "      <th>educational level</th>\n",
       "      <th>marital status</th>\n",
       "    </tr>\n",
       "  </thead>\n",
       "  <tbody>\n",
       "    <tr>\n",
       "      <th>count</th>\n",
       "      <td>131.000000</td>\n",
       "      <td>131.000000</td>\n",
       "      <td>131.000000</td>\n",
       "      <td>131.000000</td>\n",
       "      <td>131.000000</td>\n",
       "    </tr>\n",
       "    <tr>\n",
       "      <th>mean</th>\n",
       "      <td>66.305344</td>\n",
       "      <td>2.000000</td>\n",
       "      <td>1.961832</td>\n",
       "      <td>1.961832</td>\n",
       "      <td>1.954198</td>\n",
       "    </tr>\n",
       "    <tr>\n",
       "      <th>std</th>\n",
       "      <td>38.330324</td>\n",
       "      <td>0.822753</td>\n",
       "      <td>0.947909</td>\n",
       "      <td>0.947909</td>\n",
       "      <td>0.951619</td>\n",
       "    </tr>\n",
       "    <tr>\n",
       "      <th>min</th>\n",
       "      <td>1.000000</td>\n",
       "      <td>1.000000</td>\n",
       "      <td>1.000000</td>\n",
       "      <td>1.000000</td>\n",
       "      <td>1.000000</td>\n",
       "    </tr>\n",
       "    <tr>\n",
       "      <th>25%</th>\n",
       "      <td>33.500000</td>\n",
       "      <td>1.000000</td>\n",
       "      <td>1.000000</td>\n",
       "      <td>1.000000</td>\n",
       "      <td>1.000000</td>\n",
       "    </tr>\n",
       "    <tr>\n",
       "      <th>50%</th>\n",
       "      <td>66.000000</td>\n",
       "      <td>2.000000</td>\n",
       "      <td>2.000000</td>\n",
       "      <td>2.000000</td>\n",
       "      <td>2.000000</td>\n",
       "    </tr>\n",
       "    <tr>\n",
       "      <th>75%</th>\n",
       "      <td>99.500000</td>\n",
       "      <td>3.000000</td>\n",
       "      <td>2.000000</td>\n",
       "      <td>2.000000</td>\n",
       "      <td>2.000000</td>\n",
       "    </tr>\n",
       "    <tr>\n",
       "      <th>max</th>\n",
       "      <td>132.000000</td>\n",
       "      <td>3.000000</td>\n",
       "      <td>4.000000</td>\n",
       "      <td>4.000000</td>\n",
       "      <td>4.000000</td>\n",
       "    </tr>\n",
       "  </tbody>\n",
       "</table>\n",
       "</div>"
      ],
      "text/plain": [
       "             name       hobby         age  educational level  marital status\n",
       "count  131.000000  131.000000  131.000000         131.000000      131.000000\n",
       "mean    66.305344    2.000000    1.961832           1.961832        1.954198\n",
       "std     38.330324    0.822753    0.947909           0.947909        0.951619\n",
       "min      1.000000    1.000000    1.000000           1.000000        1.000000\n",
       "25%     33.500000    1.000000    1.000000           1.000000        1.000000\n",
       "50%     66.000000    2.000000    2.000000           2.000000        2.000000\n",
       "75%     99.500000    3.000000    2.000000           2.000000        2.000000\n",
       "max    132.000000    3.000000    4.000000           4.000000        4.000000"
      ]
     },
     "execution_count": 6,
     "metadata": {},
     "output_type": "execute_result"
    }
   ],
   "source": [
    "data.describe()"
   ]
  },
  {
   "cell_type": "code",
   "execution_count": 7,
   "metadata": {},
   "outputs": [
    {
     "data": {
      "text/plain": [
       "name                 0\n",
       "hobby                0\n",
       "age                  0\n",
       "educational level    0\n",
       "marital status       0\n",
       "class                0\n",
       "dtype: int64"
      ]
     },
     "execution_count": 7,
     "metadata": {},
     "output_type": "execute_result"
    }
   ],
   "source": [
    "data.isnull().sum()"
   ]
  },
  {
   "cell_type": "code",
   "execution_count": 9,
   "metadata": {},
   "outputs": [
    {
     "name": "stdout",
     "output_type": "stream",
     "text": [
      "Columns with missing values\n",
      "name                 0\n",
      "hobby                0\n",
      "age                  0\n",
      "educational level    0\n",
      "marital status       0\n",
      "class                0\n",
      "dtype: int64\n",
      "\n",
      " Columns with zero values\n",
      "name                 0\n",
      "hobby                0\n",
      "age                  0\n",
      "educational level    0\n",
      "marital status       0\n",
      "class                0\n",
      "dtype: int64\n"
     ]
    }
   ],
   "source": [
    "print('Columns with missing values')\n",
    "print(data.isnull().sum())\n",
    "print('\\n Columns with zero values')\n",
    "print((data[['name','hobby','age','educational level','marital status','class']]==0).sum())"
   ]
  },
  {
   "cell_type": "code",
   "execution_count": 11,
   "metadata": {},
   "outputs": [
    {
     "name": "stdout",
     "output_type": "stream",
     "text": [
      "Columns with missing values\n",
      "name                 0\n",
      "hobby                0\n",
      "age                  0\n",
      "educational level    0\n",
      "marital status       0\n",
      "class                0\n",
      "dtype: int64\n"
     ]
    }
   ],
   "source": [
    "data[['name','hobby',\n",
    "         'age',\n",
    "         'educational level',\n",
    "       'marital status', 'class']] = data[['name',\n",
    "                                              'hobby',\n",
    "                                              'age',\n",
    "                                              'educational level',\n",
    "                                              'marital status', 'class']].replace(0, np.NaN)\n",
    "print('Columns with missing values')\n",
    "print(data.isnull().sum())"
   ]
  },
  {
   "cell_type": "code",
   "execution_count": 12,
   "metadata": {},
   "outputs": [
    {
     "name": "stdout",
     "output_type": "stream",
     "text": [
      "name                 0\n",
      "hobby                0\n",
      "age                  0\n",
      "educational level    0\n",
      "marital status       0\n",
      "class                0\n",
      "dtype: int64\n"
     ]
    }
   ],
   "source": [
    "\n",
    "# fill missing values with mean column values\n",
    "data.fillna(data.mean(), inplace=True)\n",
    "# count the number of NaN values in each column\n",
    "print(data.isnull().sum())"
   ]
  },
  {
   "cell_type": "code",
   "execution_count": 13,
   "metadata": {},
   "outputs": [],
   "source": [
    "url = \"http://archive.ics.uci.edu/ml/machine-learning-databases/hayes-roth/hayes-roth.data\"\n",
    "\n",
    "# load dataset into Pandas DataFrame\n",
    "PCA_df = pd.read_csv(url, names=['name','hobby','age','educational level','marital status','target'])"
   ]
  },
  {
   "cell_type": "code",
   "execution_count": 14,
   "metadata": {},
   "outputs": [
    {
     "name": "stdout",
     "output_type": "stream",
     "text": [
      "[[ 0.66922065  0.         -1.010753   -1.010753    0.0481311 ]\n",
      " [-1.48278301  0.         -1.010753    1.10701519  0.0481311 ]\n",
      " [ 0.43302513  1.22474487 -1.010753    2.16589928 -1.010753  ]\n",
      " [-0.14434171  0.          2.16589928  0.0481311   0.0481311 ]\n",
      " [ 1.06287986 -1.22474487 -1.010753    1.10701519  2.16589928]\n",
      " [ 1.22034354 -1.22474487 -1.010753    1.10701519  0.0481311 ]\n",
      " [ 0.35429329  1.22474487 -1.010753    1.10701519  0.0481311 ]\n",
      " [ 1.53527091  1.22474487  2.16589928  0.0481311   2.16589928]\n",
      " [-0.80044039  0.          0.0481311  -1.010753   -1.010753  ]\n",
      " [ 1.01039197  1.22474487  0.0481311  -1.010753   -1.010753  ]\n",
      " [ 0.38053723 -1.22474487  0.0481311  -1.010753   -1.010753  ]\n",
      " [ 1.45653907  0.          0.0481311   1.10701519  2.16589928]\n",
      " [ 0.72170855 -1.22474487 -1.010753    0.0481311  -1.010753  ]\n",
      " [-0.17058566  0.         -1.010753    0.0481311   0.0481311 ]\n",
      " [-1.53527091  0.          2.16589928 -1.010753    2.16589928]\n",
      " [-1.22034354 -1.22474487 -1.010753    1.10701519  1.10701519]\n",
      " [ 0.48551302  1.22474487  0.0481311  -1.010753    0.0481311 ]\n",
      " [-0.43302513 -1.22474487  0.0481311  -1.010753   -1.010753  ]\n",
      " [ 0.03936592  1.22474487  1.10701519  0.0481311  -1.010753  ]\n",
      " [ 0.59048881  1.22474487 -1.010753    1.10701519  0.0481311 ]\n",
      " [-0.38053723 -1.22474487  0.0481311   0.0481311  -1.010753  ]\n",
      " [-1.24658749  1.22474487  0.0481311  -1.010753    1.10701519]\n",
      " [ 1.35156328  0.         -1.010753    0.0481311  -1.010753  ]\n",
      " [-1.32531933  1.22474487  0.0481311  -1.010753    1.10701519]\n",
      " [ 0.64297671  0.          1.10701519  0.0481311  -1.010753  ]\n",
      " [ 0.32804934  1.22474487  0.0481311   0.0481311  -1.010753  ]\n",
      " [-1.1416117   1.22474487  0.0481311  -1.010753    1.10701519]\n",
      " [-1.08912381  0.         -1.010753    0.0481311   0.0481311 ]\n",
      " [-0.95790407 -1.22474487 -1.010753    1.10701519  0.0481311 ]\n",
      " [-0.2493175   1.22474487  0.0481311  -1.010753   -1.010753  ]\n",
      " [-1.66649064 -1.22474487  2.16589928 -1.010753   -1.010753  ]\n",
      " [ 1.24658749  0.          0.0481311  -1.010753    1.10701519]\n",
      " [-0.77419644 -1.22474487  0.0481311  -1.010753    1.10701519]\n",
      " [-0.01312197 -1.22474487 -1.010753   -1.010753    0.0481311 ]\n",
      " [ 1.1416117   0.          2.16589928  1.10701519 -1.010753  ]\n",
      " [ 1.29907538  1.22474487 -1.010753    0.0481311   0.0481311 ]\n",
      " [ 0.56424486 -1.22474487 -1.010753    0.0481311   0.0481311 ]\n",
      " [ 0.27556145  1.22474487  0.0481311   0.0481311  -1.010753  ]\n",
      " [ 0.40678118 -1.22474487  0.0481311  -1.010753    0.0481311 ]\n",
      " [-0.06560987  1.22474487  2.16589928  1.10701519  0.0481311 ]\n",
      " [ 0.45926908  0.          0.0481311   0.0481311  -1.010753  ]\n",
      " [ 0.51175697  0.          0.0481311  -1.010753    0.0481311 ]\n",
      " [-1.5877588   1.22474487  0.0481311  -1.010753    1.10701519]\n",
      " [ 0.1968296   1.22474487  0.0481311  -1.010753   -1.010753  ]\n",
      " [ 1.03663591  1.22474487 -1.010753    0.0481311  -1.010753  ]\n",
      " [ 1.27283144 -1.22474487  0.0481311  -1.010753    1.10701519]\n",
      " [ 1.66649064  0.         -1.010753   -1.010753    0.0481311 ]\n",
      " [-0.32804934 -1.22474487 -1.010753   -1.010753    0.0481311 ]\n",
      " [-0.87917223 -1.22474487  0.0481311   0.0481311   1.10701519]\n",
      " [ 0.01312197  1.22474487  1.10701519 -1.010753   -1.010753  ]\n",
      " [ 0.06560987  1.22474487  1.10701519  1.10701519 -1.010753  ]\n",
      " [-0.72170855  1.22474487  0.0481311  -1.010753    0.0481311 ]\n",
      " [-0.35429329  1.22474487  0.0481311  -1.010753    0.0481311 ]\n",
      " [ 1.5877588   1.22474487 -1.010753    0.0481311  -1.010753  ]\n",
      " [ 0.77419644 -1.22474487 -1.010753   -1.010753    0.0481311 ]\n",
      " [ 1.43029512  0.         -1.010753    1.10701519  0.0481311 ]\n",
      " [ 0.09185382  0.          0.0481311   0.0481311  -1.010753  ]\n",
      " [ 1.48278301  0.         -1.010753    0.0481311  -1.010753  ]\n",
      " [-0.64297671  0.          0.0481311  -1.010753    1.10701519]\n",
      " [ 0.30180539  0.         -1.010753    0.0481311   0.0481311 ]\n",
      " [-1.45653907 -1.22474487  0.0481311   2.16589928  0.0481311 ]\n",
      " [ 1.6402467   0.          0.0481311  -1.010753    0.0481311 ]\n",
      " [ 1.61400275 -1.22474487 -1.010753    0.0481311   2.16589928]\n",
      " [-1.61400275 -1.22474487  1.10701519  0.0481311  -1.010753  ]\n",
      " [-1.6402467   0.          2.16589928  2.16589928  0.0481311 ]\n",
      " [ 0.74795249  0.          1.10701519  0.0481311  -1.010753  ]\n",
      " [ 0.17058566  1.22474487 -1.010753    0.0481311   0.0481311 ]\n",
      " [-1.06287986 -1.22474487 -1.010753    0.0481311   0.0481311 ]\n",
      " [-0.48551302 -1.22474487  1.10701519  0.0481311   2.16589928]\n",
      " [ 0.98414802 -1.22474487 -1.010753    0.0481311   0.0481311 ]\n",
      " [ 0.93166012  1.22474487 -1.010753    2.16589928  0.0481311 ]\n",
      " [-1.69273459  0.         -1.010753    1.10701519  0.0481311 ]\n",
      " [-0.66922065 -1.22474487 -1.010753    1.10701519  0.0481311 ]\n",
      " [ 1.37780723  1.22474487 -1.010753    1.10701519  0.0481311 ]\n",
      " [ 0.22307355 -1.22474487  0.0481311   2.16589928  2.16589928]\n",
      " [-0.51175697 -1.22474487  2.16589928  0.0481311  -1.010753  ]\n",
      " [ 0.6954646   0.         -1.010753    0.0481311  -1.010753  ]\n",
      " [-0.53800092  1.22474487  2.16589928 -1.010753    0.0481311 ]\n",
      " [ 1.71897854  0.          0.0481311  -1.010753   -1.010753  ]\n",
      " [ 1.08912381 -1.22474487 -1.010753    0.0481311  -1.010753  ]\n",
      " [-1.27283144  0.          0.0481311   2.16589928  1.10701519]\n",
      " [-0.11809776  1.22474487 -1.010753    0.0481311   0.0481311 ]\n",
      " [ 1.40405117 -1.22474487 -1.010753    1.10701519  0.0481311 ]\n",
      " [-0.82668434 -1.22474487  0.0481311  -1.010753    1.10701519]\n",
      " [-1.03663591 -1.22474487  2.16589928  2.16589928 -1.010753  ]\n",
      " [ 0.82668434  1.22474487  1.10701519  1.10701519  0.0481311 ]\n",
      " [ 1.11536775  0.          0.0481311  -1.010753    1.10701519]\n",
      " [-0.93166012  1.22474487  1.10701519  0.0481311  -1.010753  ]\n",
      " [ 1.1940996  -1.22474487 -1.010753   -1.010753    1.10701519]\n",
      " [-0.85292828  0.          0.0481311  -1.010753    0.0481311 ]\n",
      " [-0.09185382  0.          0.0481311   0.0481311  -1.010753  ]\n",
      " [-0.03936592  0.          1.10701519  0.0481311   1.10701519]\n",
      " [ 1.32531933 -1.22474487  1.10701519  0.0481311  -1.010753  ]\n",
      " [-0.27556145  0.          0.0481311  -1.010753    0.0481311 ]\n",
      " [-0.1968296  -1.22474487 -1.010753   -1.010753    0.0481311 ]\n",
      " [ 0.2493175   1.22474487  0.0481311   0.0481311  -1.010753  ]\n",
      " [-1.71897854  1.22474487  0.0481311  -1.010753   -1.010753  ]\n",
      " [-1.01039197 -1.22474487 -1.010753    0.0481311  -1.010753  ]\n",
      " [-1.16785565  1.22474487 -1.010753    2.16589928  2.16589928]\n",
      " [-0.98414802  1.22474487  1.10701519  0.0481311  -1.010753  ]\n",
      " [ 1.16785565  0.          1.10701519  0.0481311  -1.010753  ]\n",
      " [ 0.80044039  0.         -1.010753    1.10701519 -1.010753  ]\n",
      " [-0.45926908 -1.22474487  0.0481311  -1.010753    0.0481311 ]\n",
      " [-0.40678118  1.22474487 -1.010753   -1.010753    0.0481311 ]\n",
      " [ 0.53800092  0.          0.0481311   2.16589928 -1.010753  ]\n",
      " [-0.22307355 -1.22474487  0.0481311   0.0481311  -1.010753  ]\n",
      " [-0.90541618  0.          1.10701519  0.0481311  -1.010753  ]\n",
      " [ 0.14434171  0.          0.0481311  -1.010753    2.16589928]\n",
      " [-0.30180539 -1.22474487  2.16589928  0.0481311   1.10701519]\n",
      " [ 0.95790407  0.          0.0481311  -1.010753   -1.010753  ]\n",
      " [-1.56151486 -1.22474487  0.0481311  -1.010753   -1.010753  ]\n",
      " [ 0.85292828  0.          0.0481311   1.10701519  0.0481311 ]\n",
      " [-1.35156328 -1.22474487  1.10701519  0.0481311  -1.010753  ]\n",
      " [ 1.56151486  1.22474487 -1.010753    0.0481311  -1.010753  ]\n",
      " [-0.56424486  1.22474487 -1.010753   -1.010753    0.0481311 ]\n",
      " [ 0.90541618  1.22474487  1.10701519 -1.010753    2.16589928]\n",
      " [ 0.87917223  0.          1.10701519  2.16589928 -1.010753  ]\n",
      " [-1.11536775 -1.22474487  0.0481311   1.10701519  1.10701519]\n",
      " [ 1.50902696  1.22474487  1.10701519  0.0481311   0.0481311 ]\n",
      " [-1.40405117  1.22474487  1.10701519  2.16589928  0.0481311 ]\n",
      " [-1.37780723 -1.22474487  0.0481311   0.0481311  -1.010753  ]\n",
      " [-0.74795249  0.         -1.010753   -1.010753    2.16589928]\n",
      " [ 0.11809776  1.22474487 -1.010753    0.0481311   0.0481311 ]\n",
      " [-0.61673276  1.22474487  0.0481311   0.0481311   2.16589928]\n",
      " [ 1.69273459  0.          1.10701519 -1.010753    1.10701519]\n",
      " [-1.29907538  0.         -1.010753   -1.010753    0.0481311 ]\n",
      " [-1.43029512  1.22474487  2.16589928 -1.010753    1.10701519]\n",
      " [-0.59048881 -1.22474487 -1.010753    2.16589928  1.10701519]\n",
      " [-0.6954646   0.         -1.010753    0.0481311  -1.010753  ]\n",
      " [ 0.61673276 -1.22474487  0.0481311  -1.010753    0.0481311 ]\n",
      " [-1.1940996  -1.22474487  0.0481311   0.0481311  -1.010753  ]\n",
      " [-1.50902696  1.22474487 -1.010753   -1.010753    0.0481311 ]]\n"
     ]
    }
   ],
   "source": [
    "from sklearn.preprocessing import StandardScaler, MinMaxScaler\n",
    "features = ['name','hobby','age','educational level','marital status']\n",
    "# Separating out the features\n",
    "x = PCA_df.loc[:, features].values\n",
    "# Separating out the target\n",
    "y = PCA_df.loc[:,['target']].values\n",
    "# Standardizing the features\n",
    "x = StandardScaler().fit_transform(x)\n",
    "print (x)"
   ]
  },
  {
   "cell_type": "code",
   "execution_count": 15,
   "metadata": {},
   "outputs": [],
   "source": [
    "from sklearn.decomposition import PCA\n",
    "pca = PCA(n_components=2)\n",
    "principalComponents = pca.fit_transform(x)\n",
    "principalDf = pd.DataFrame(data = principalComponents\n",
    "             , columns = ['principal component 1', 'principal component 2'])"
   ]
  },
  {
   "cell_type": "code",
   "execution_count": 16,
   "metadata": {},
   "outputs": [],
   "source": [
    "finalDf = pd.concat([principalDf, PCA_df[['target']]], axis = 1)\n"
   ]
  },
  {
   "cell_type": "code",
   "execution_count": 17,
   "metadata": {},
   "outputs": [
    {
     "name": "stderr",
     "output_type": "stream",
     "text": [
      "/srv/conda/envs/notebook/lib/python3.7/site-packages/pandas/core/ops.py:1649: FutureWarning: elementwise comparison failed; returning scalar instead, but in the future will perform elementwise comparison\n",
      "  result = method(y)\n"
     ]
    },
    {
     "data": {
      "image/png": "[encoded data removed]",
      "text/plain": [
       "<Figure size 576x576 with 1 Axes>"
      ]
     },
     "metadata": {
      "needs_background": "light"
     },
     "output_type": "display_data"
    }
   ],
   "source": [
    "import matplotlib.pyplot as plt\n",
    "%matplotlib inline\n",
    "#sns.set(color_codes=True)\n",
    "fig = plt.figure(figsize = (8,8))\n",
    "ax = fig.add_subplot(1,1,1) \n",
    "ax.set_xlabel('Principal Component 1', fontsize = 15)\n",
    "ax.set_ylabel('Principal Component 2', fontsize = 15)\n",
    "ax.set_title('2 component PCA', fontsize = 20)\n",
    "targets = ['Low', 'Medium', 'high']\n",
    "colors = ['r', 'g', 'b']\n",
    "for target, color in zip(targets,colors):\n",
    "    indicesToKeep = finalDf['target'] == target\n",
    "    ax.scatter(finalDf.loc[indicesToKeep, 'principal component 1']\n",
    "               , finalDf.loc[indicesToKeep, 'principal component 2']\n",
    "               , c = color\n",
    "               , s = 50)\n",
    "ax.legend(targets)\n",
    "ax.grid()"
   ]
  },
  {
   "cell_type": "code",
   "execution_count": 18,
   "metadata": {},
   "outputs": [
    {
     "name": "stdout",
     "output_type": "stream",
     "text": [
      "[0.23636051 0.21904621]\n"
     ]
    }
   ],
   "source": [
    "print(pca.explained_variance_ratio_)\n"
   ]
  },
  {
   "cell_type": "code",
   "execution_count": null,
   "metadata": {},
   "outputs": [],
   "source": []
  }
 ],
 "metadata": {
  "kernelspec": {
   "display_name": "Python 3",
   "language": "python",
   "name": "python3"
  },
  "language_info": {
   "codemirror_mode": {
    "name": "ipython",
    "version": 3
   },
   "file_extension": ".py",
   "mimetype": "text/x-python",
   "name": "python",
   "nbconvert_exporter": "python",
   "pygments_lexer": "ipython3",
   "version": "3.7.6"
  }
 },
 "nbformat": 4,
 "nbformat_minor": 4
}
